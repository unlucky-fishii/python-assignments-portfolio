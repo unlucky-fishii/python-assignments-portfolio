{
 "cells": [
  {
   "cell_type": "code",
   "execution_count": 11,
   "id": "5bb042a7-ed17-41b8-ac07-0ad2e7bfe5f9",
   "metadata": {},
   "outputs": [],
   "source": [
    "import math"
   ]
  },
  {
   "cell_type": "code",
   "execution_count": 12,
   "id": "bdf871cc-b1b4-4fa6-9bd5-a7eef0eb6aeb",
   "metadata": {},
   "outputs": [],
   "source": [
    "a=0\n",
    "b=0\n",
    "def roots(f,a,b):\n",
    "    if f(a)*f(b) >=0:\n",
    "        print(\"Bisection method invalid\")  #Bisection only works if f(a)*f(b) indicates a change in sign.\n",
    "        return None \n",
    "    while b-a > 0.0000000001: #Loops function until approximation to 10 decimal places is reached\n",
    "        c = (a+b)/2 #Finds the middle point\n",
    "        if f(a)*f(c) <0: #This determines if there is a change in sign in the interval, if that is the case a new interval is created\n",
    "            b = c #Changes the interval\n",
    "            a = a\n",
    "        elif f(b)*f(c) < 0:  #This determines if there is a change in sign in the interval, if that is the case a new interval is created\n",
    "            a = c #Changes the interval\n",
    "            b = b\n",
    "    c = (a+b)/2 #after the loop ends, this will retrieve the approximation of the root \n",
    "    return round(c,10) #returns the answer rounded to 10 decimal points\n",
    "        "
   ]
  },
  {
   "cell_type": "code",
   "execution_count": 13,
   "id": "6ac14430-9b1b-416a-a665-786dcade7736",
   "metadata": {},
   "outputs": [],
   "source": [
    "f = lambda x: math.sin(x) / math.log(x)"
   ]
  },
  {
   "cell_type": "code",
   "execution_count": 14,
   "id": "5ccfdf1f-1164-477d-b963-c2577de06eb3",
   "metadata": {},
   "outputs": [
    {
     "data": {
      "text/plain": [
       "3.1415926536"
      ]
     },
     "execution_count": 14,
     "metadata": {},
     "output_type": "execute_result"
    }
   ],
   "source": [
    "roots(f,3,4)"
   ]
  },
  {
   "cell_type": "code",
   "execution_count": 15,
   "id": "a5466979-8e13-4c36-8cc0-901aa7619cd5",
   "metadata": {},
   "outputs": [],
   "source": [
    "f = lambda x: math.atan(x) - x**2"
   ]
  },
  {
   "cell_type": "code",
   "execution_count": 16,
   "id": "57956858-adac-44c2-968e-e3cdf451d72f",
   "metadata": {},
   "outputs": [
    {
     "name": "stdout",
     "output_type": "stream",
     "text": [
      "Bisection method invalid\n"
     ]
    }
   ],
   "source": [
    "roots(f,0,2)"
   ]
  },
  {
   "cell_type": "code",
   "execution_count": 17,
   "id": "ea20d40f-0660-426e-938f-5d982deac5d5",
   "metadata": {},
   "outputs": [],
   "source": [
    "#The initial domain, [0,2], does not work for bisection. f(0) = 0, which does not indicate a change in sign for the domain. \n",
    "#While a root exists on the domain, it cannot be found with bisection using this domain. \n",
    "#If the domain was instead [0.0000000001,2], then the root can be found"
   ]
  },
  {
   "cell_type": "code",
   "execution_count": 18,
   "id": "c2f02a5f-a345-42c4-ac6f-e490f009a8c3",
   "metadata": {},
   "outputs": [
    {
     "data": {
      "text/plain": [
       "0.8336061944"
      ]
     },
     "execution_count": 18,
     "metadata": {},
     "output_type": "execute_result"
    }
   ],
   "source": [
    "roots(f,0.0000000001,2)"
   ]
  },
  {
   "cell_type": "code",
   "execution_count": 19,
   "id": "c2b19acd-774b-4012-9f55-cb20edd7d10e",
   "metadata": {},
   "outputs": [],
   "source": [
    "f = lambda x: math.exp(x) + math.log(x)"
   ]
  },
  {
   "cell_type": "code",
   "execution_count": 20,
   "id": "b7cba55b-109d-4fea-a937-ed0eb04effba",
   "metadata": {},
   "outputs": [
    {
     "ename": "ValueError",
     "evalue": "math domain error",
     "output_type": "error",
     "traceback": [
      "\u001b[0;31m---------------------------------------------------------------------------\u001b[0m",
      "\u001b[0;31mValueError\u001b[0m                                Traceback (most recent call last)",
      "Cell \u001b[0;32mIn[20], line 1\u001b[0m\n\u001b[0;32m----> 1\u001b[0m \u001b[43mroots\u001b[49m\u001b[43m(\u001b[49m\u001b[43mf\u001b[49m\u001b[43m,\u001b[49m\u001b[38;5;241;43m0\u001b[39;49m\u001b[43m,\u001b[49m\u001b[38;5;241;43m1\u001b[39;49m\u001b[43m)\u001b[49m\n",
      "Cell \u001b[0;32mIn[12], line 4\u001b[0m, in \u001b[0;36mroots\u001b[0;34m(f, a, b)\u001b[0m\n\u001b[1;32m      3\u001b[0m \u001b[38;5;28;01mdef\u001b[39;00m \u001b[38;5;21mroots\u001b[39m(f,a,b):\n\u001b[0;32m----> 4\u001b[0m     \u001b[38;5;28;01mif\u001b[39;00m \u001b[43mf\u001b[49m\u001b[43m(\u001b[49m\u001b[43ma\u001b[49m\u001b[43m)\u001b[49m\u001b[38;5;241m*\u001b[39mf(b) \u001b[38;5;241m>\u001b[39m\u001b[38;5;241m=\u001b[39m\u001b[38;5;241m0\u001b[39m:\n\u001b[1;32m      5\u001b[0m         \u001b[38;5;28mprint\u001b[39m(\u001b[38;5;124m\"\u001b[39m\u001b[38;5;124mBisection method invalid\u001b[39m\u001b[38;5;124m\"\u001b[39m)  \u001b[38;5;66;03m#Bisection only works if f(a)*f(b) indicates a change in sign.\u001b[39;00m\n\u001b[1;32m      6\u001b[0m         \u001b[38;5;28;01mreturn\u001b[39;00m \u001b[38;5;28;01mNone\u001b[39;00m \n",
      "Cell \u001b[0;32mIn[19], line 1\u001b[0m, in \u001b[0;36m<lambda>\u001b[0;34m(x)\u001b[0m\n\u001b[0;32m----> 1\u001b[0m f \u001b[38;5;241m=\u001b[39m \u001b[38;5;28;01mlambda\u001b[39;00m x: math\u001b[38;5;241m.\u001b[39mexp(x) \u001b[38;5;241m+\u001b[39m \u001b[43mmath\u001b[49m\u001b[38;5;241;43m.\u001b[39;49m\u001b[43mlog\u001b[49m\u001b[43m(\u001b[49m\u001b[43mx\u001b[49m\u001b[43m)\u001b[49m\n",
      "\u001b[0;31mValueError\u001b[0m: math domain error"
     ]
    }
   ],
   "source": [
    "roots(f,0,1)"
   ]
  },
  {
   "cell_type": "code",
   "execution_count": 21,
   "id": "eb6d2c97-b536-4965-9a4e-6a2080c214fd",
   "metadata": {},
   "outputs": [],
   "source": [
    "#The error is a result of the initial domain, [0,1]. The function ln(0) does not return a value, meaning bisection cannot work using this domain. \n",
    "#A root does exist in this interval, however, a different domain would need to be used. "
   ]
  },
  {
   "cell_type": "code",
   "execution_count": 22,
   "id": "401a13f5-9474-4d53-a310-714828a9b72b",
   "metadata": {},
   "outputs": [
    {
     "data": {
      "text/plain": [
       "0.2698741376"
      ]
     },
     "execution_count": 22,
     "metadata": {},
     "output_type": "execute_result"
    }
   ],
   "source": [
    "roots(f,0.0000000001,1)"
   ]
  },
  {
   "cell_type": "code",
   "execution_count": 23,
   "id": "da804caf-a071-4bff-8d19-fb906810b12c",
   "metadata": {},
   "outputs": [],
   "source": [
    "f = lambda x: math.log(math.cos(x))"
   ]
  },
  {
   "cell_type": "code",
   "execution_count": 24,
   "id": "db5c0066-65ac-461e-9369-18644bd7e663",
   "metadata": {},
   "outputs": [
    {
     "name": "stdout",
     "output_type": "stream",
     "text": [
      "Bisection method invalid\n"
     ]
    }
   ],
   "source": [
    "roots(f,5,7)"
   ]
  },
  {
   "cell_type": "code",
   "execution_count": 25,
   "id": "32f91837-65a8-4c53-bf8a-4d35ef634a84",
   "metadata": {},
   "outputs": [],
   "source": [
    "#While a root exists on this interval, there is no change in sign. This is because the function 'bounces' when it touches the x-axis\n",
    "#As a result, the bisection method cannot work for this function. "
   ]
  }
 ],
 "metadata": {
  "kernelspec": {
   "display_name": "Python 3 (ipykernel)",
   "language": "python",
   "name": "python3"
  },
  "language_info": {
   "codemirror_mode": {
    "name": "ipython",
    "version": 3
   },
   "file_extension": ".py",
   "mimetype": "text/x-python",
   "name": "python",
   "nbconvert_exporter": "python",
   "pygments_lexer": "ipython3",
   "version": "3.11.4"
  }
 },
 "nbformat": 4,
 "nbformat_minor": 5
}
