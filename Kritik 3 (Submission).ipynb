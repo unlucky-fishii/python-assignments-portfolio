{
 "cells": [
  {
   "cell_type": "code",
   "execution_count": 1,
   "id": "e7e7b5fe-cf3f-4df6-b3de-b8c58a533d37",
   "metadata": {},
   "outputs": [],
   "source": [
    "import numpy as np"
   ]
  },
  {
   "cell_type": "code",
   "execution_count": 12,
   "id": "42d623a9-b6ca-487c-b0f3-429695a66c2b",
   "metadata": {},
   "outputs": [
    {
     "ename": "SyntaxError",
     "evalue": "invalid syntax (1787809847.py, line 13)",
     "output_type": "error",
     "traceback": [
      "\u001b[0;36m  Cell \u001b[0;32mIn[12], line 13\u001b[0;36m\u001b[0m\n\u001b[0;31m    elif abs(f(x1) - L(x1)) < E:\u001b[0m\n\u001b[0m    ^\u001b[0m\n\u001b[0;31mSyntaxError\u001b[0m\u001b[0;31m:\u001b[0m invalid syntax\n"
     ]
    }
   ],
   "source": [
    "def linear_approx(f,c,E):\n",
    "    del_x = 10**-8\n",
    "    def func_deriv_approx(x):  #Finds the derivative approximation\n",
    "        return (f(x + del_x) - f(x-del_x)) / (2 * del_x)\n",
    "    def L(x):\n",
    "        return f(c) + func_deriv_approx(c) * (x-c)\n",
    "    x1 = c\n",
    "    x2 = c\n",
    "    step_size = 0.0001\n",
    "    c_1=0 #Keeps track of the size\n",
    "    c_2=0 #Keeps track of the size\n",
    "    while max(c_1,c_2)<1000000:\n",
    "        if abs(f(x1) - L(x1)) < E:\n",
    "            x1 -= step_size #LHS \n",
    "            c_1+=1\n",
    "        else:\n",
    "            x1 += step_size\n",
    "            step_size /= 10\n",
    "            if step_size < del_x:\n",
    "                break \n",
    "        if abs(f(x2) - L(x2)) < E: #RHS\n",
    "            x2 += step_size  \n",
    "            c_2+=1\n",
    "        else:\n",
    "            x2 -= step_size\n",
    "            step_size /= 10\n",
    "            if step_size < del_x:\n",
    "                break \n",
    "    return x1, x2\n"
   ]
  },
  {
   "cell_type": "code",
   "execution_count": 9,
   "id": "31c3637a-d094-47b7-874c-09031f63c78f",
   "metadata": {},
   "outputs": [
    {
     "data": {
      "text/plain": [
       "(0.6837988900000348, 1.3162888899999652)"
      ]
     },
     "execution_count": 9,
     "metadata": {},
     "output_type": "execute_result"
    }
   ],
   "source": [
    "#test case 1\n",
    "def test1(x):\n",
    "    return x**2\n",
    "\n",
    "E=0.1\n",
    "c=1\n",
    "\n",
    "linear_approx(test1,c,E)"
   ]
  },
  {
   "cell_type": "code",
   "execution_count": 10,
   "id": "4f94aaeb-5eb7-44f1-b07e-43a7d6c18f44",
   "metadata": {},
   "outputs": [
    {
     "data": {
      "text/plain": [
       "(0.4278728933974878, 1.1427012133974084)"
      ]
     },
     "execution_count": 10,
     "metadata": {},
     "output_type": "execute_result"
    }
   ],
   "source": [
    "#test case 2\n",
    "\n",
    "def test2(x):\n",
    "    return np.sin(x)\n",
    "\n",
    "E=0.05\n",
    "c=np.pi/4\n",
    "\n",
    "linear_approx(test2,c,E)"
   ]
  },
  {
   "cell_type": "code",
   "execution_count": 11,
   "id": "149cf661-7c61-4a4d-b938-66548e621434",
   "metadata": {},
   "outputs": [
    {
     "data": {
      "text/plain": [
       "(-0.13838733000000117, 0.13816511000000117)"
      ]
     },
     "execution_count": 11,
     "metadata": {},
     "output_type": "execute_result"
    }
   ],
   "source": [
    "#test case 3\n",
    "\n",
    "def test3(x): \n",
    "    return np.exp(x)\n",
    "\n",
    "c=0\n",
    "E=0.01\n",
    "\n",
    "linear_approx(test3,c,E)"
   ]
  }
 ],
 "metadata": {
  "kernelspec": {
   "display_name": "Python 3 (ipykernel)",
   "language": "python",
   "name": "python3"
  },
  "language_info": {
   "codemirror_mode": {
    "name": "ipython",
    "version": 3
   },
   "file_extension": ".py",
   "mimetype": "text/x-python",
   "name": "python",
   "nbconvert_exporter": "python",
   "pygments_lexer": "ipython3",
   "version": "3.11.4"
  }
 },
 "nbformat": 4,
 "nbformat_minor": 5
}
