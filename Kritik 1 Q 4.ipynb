{
 "cells": [
  {
   "cell_type": "code",
   "execution_count": 3,
   "id": "50ca35b0-923d-447e-a8f1-249bf90521c6",
   "metadata": {},
   "outputs": [],
   "source": [
    "def deez(x):\n",
    "    n=0\n",
    "    a=0\n",
    "    Errorbound=(x**(2*n+1)/(2*n+1))\n",
    "    if 0 <=x<=1:\n",
    "        while Errorbound>0.0001: \n",
    "            n+=1\n",
    "            Errorbound=(x**(2*n+1)/(2*n+1))\n",
    "        for(i) in range (0,n-1):\n",
    "            a+=((-1)**i*x**(2*i+1)/(2*i+1))\n",
    "        extra_n=(2*n+1)\n",
    "        return a, extra_n, Errorbound\n",
    "        print (a,extra_n,Errorbound)\n",
    "    else:\n",
    "        print(\"Error\")"
   ]
  },
  {
   "cell_type": "code",
   "execution_count": 6,
   "id": "f81cebf0-9519-4c81-857d-48071e8f8426",
   "metadata": {},
   "outputs": [
    {
     "data": {
      "text/plain": [
       "(0.46346726190476184, 11, 4.438920454545455e-05)"
      ]
     },
     "execution_count": 6,
     "metadata": {},
     "output_type": "execute_result"
    }
   ],
   "source": [
    "deez(0.5)\n",
    "        "
   ]
  },
  {
   "cell_type": "code",
   "execution_count": 7,
   "id": "33060e68-998e-4bb2-8526-01925946f494",
   "metadata": {},
   "outputs": [
    {
     "name": "stdout",
     "output_type": "stream",
     "text": [
      "Error\n"
     ]
    }
   ],
   "source": [
    "deez(9)"
   ]
  },
  {
   "cell_type": "code",
   "execution_count": null,
   "id": "30bd75c4-fdba-409e-be68-451bcc4e0fd5",
   "metadata": {},
   "outputs": [],
   "source": []
  },
  {
   "cell_type": "code",
   "execution_count": null,
   "id": "79dde80c-395a-4310-ae90-0fa15174097a",
   "metadata": {},
   "outputs": [],
   "source": []
  }
 ],
 "metadata": {
  "kernelspec": {
   "display_name": "Python 3 (ipykernel)",
   "language": "python",
   "name": "python3"
  },
  "language_info": {
   "codemirror_mode": {
    "name": "ipython",
    "version": 3
   },
   "file_extension": ".py",
   "mimetype": "text/x-python",
   "name": "python",
   "nbconvert_exporter": "python",
   "pygments_lexer": "ipython3",
   "version": "3.11.4"
  }
 },
 "nbformat": 4,
 "nbformat_minor": 5
}
