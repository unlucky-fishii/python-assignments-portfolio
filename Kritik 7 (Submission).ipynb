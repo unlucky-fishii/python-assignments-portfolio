{
 "cells": [
  {
   "cell_type": "code",
   "execution_count": 5,
   "id": "aa5d3105-8218-4af4-a013-0f7b5611741f",
   "metadata": {},
   "outputs": [],
   "source": [
    "import numpy as np\n",
    "from scipy.special import gamma"
   ]
  },
  {
   "cell_type": "code",
   "execution_count": 6,
   "id": "69b7714f-7981-4a57-8e6f-033cf2adf49d",
   "metadata": {},
   "outputs": [],
   "source": [
    "values = [92.64,79.00,84.79,97.41,93.68,65.23,84.50,73.49,73.97,79.11]"
   ]
  },
  {
   "cell_type": "code",
   "execution_count": 7,
   "id": "f1914de7-b83c-479d-b4c4-ae47bdf5f553",
   "metadata": {},
   "outputs": [],
   "source": [
    "def mean(x): #Calculates the average of the given dataset\n",
    "    return sum(x)/len(x)"
   ]
  },
  {
   "cell_type": "code",
   "execution_count": 8,
   "id": "18946e9a-ad55-4623-b313-a2c0e86f7b0d",
   "metadata": {},
   "outputs": [
    {
     "name": "stdout",
     "output_type": "stream",
     "text": [
      "82.382\n"
     ]
    }
   ],
   "source": [
    "avg = mean(values)\n",
    "print(avg)"
   ]
  },
  {
   "cell_type": "code",
   "execution_count": 9,
   "id": "938a3f3b-c0a4-4437-86be-19ddf2dc65f7",
   "metadata": {},
   "outputs": [],
   "source": [
    "def stnrd_dvtn(list,mean): #finds the standard deviation of the dataset\n",
    "    top = 0\n",
    "    for i in range(len(list)):\n",
    "        top += (list[i] - mean)**2\n",
    "    return np.sqrt(top/len(list))"
   ]
  },
  {
   "cell_type": "code",
   "execution_count": 10,
   "id": "d0726c86-4330-4332-91b9-2ec1ad65b3da",
   "metadata": {},
   "outputs": [
    {
     "name": "stdout",
     "output_type": "stream",
     "text": [
      "9.670372071435516\n"
     ]
    }
   ],
   "source": [
    "dvt = stnrd_dvtn(values,avg)\n",
    "print(dvt)\n"
   ]
  },
  {
   "cell_type": "code",
   "execution_count": 11,
   "id": "71b6e429-e675-4e99-af9e-4c241a724fb3",
   "metadata": {},
   "outputs": [],
   "source": [
    "def wrd_t(list,hypthss,stnrd_dvtn,mean): #Compute value of to\n",
    "    return (mean-hypthss)/(stnrd_dvtn/np.sqrt(len(list)))"
   ]
  },
  {
   "cell_type": "code",
   "execution_count": 12,
   "id": "41cbeeb5-d436-4e79-ac27-c92993299b8a",
   "metadata": {},
   "outputs": [
    {
     "name": "stdout",
     "output_type": "stream",
     "text": [
      "2.413964376439728\n"
     ]
    }
   ],
   "source": [
    "t0 = wrd_t(values,75,dvt,avg)\n",
    "print(t0)"
   ]
  },
  {
   "cell_type": "code",
   "execution_count": 13,
   "id": "23b2d025-6611-4ae2-ab86-fad9ef8be895",
   "metadata": {},
   "outputs": [],
   "source": [
    "def t_distribution_pdf(x, nu): #From Kritik\n",
    "    coeff = gamma((nu + 1) / 2) / (np.sqrt(nu * np.pi) * gamma(nu / 2))\n",
    "    density = coeff * (1 + x**2 / nu) ** (-0.5 * (nu + 1))\n",
    "    return density"
   ]
  },
  {
   "cell_type": "code",
   "execution_count": 14,
   "id": "5d5f81c5-0327-4dfc-ada4-6921401f6164",
   "metadata": {},
   "outputs": [],
   "source": [
    "def find_t_star(prob, nu, x_start, x_end, num_points): #From Kritik\n",
    "# Define the x values\n",
    "    x = np.linspace(x_start, x_end, num_points)\n",
    "# Apply the density function to the x values\n",
    "    y = t_distribution_pdf(x, nu)\n",
    "# This next line is the integration (exercise: why does this work?)\n",
    "    cdf = np.cumsum(y)*(x[1] - x[0])\n",
    "# Find the t-value where the cumulative probability reaches half of the required probability\n",
    "    target_half_prob = prob / 2\n",
    "    index = np.where(cdf >= target_half_prob)[0][0]\n",
    "    return x[index]"
   ]
  },
  {
   "cell_type": "code",
   "execution_count": 15,
   "id": "4d2b7b59-f137-4a6c-9fbd-ef1eefece591",
   "metadata": {},
   "outputs": [
    {
     "name": "stdout",
     "output_type": "stream",
     "text": [
      "1.9841984198419842\n"
     ]
    }
   ],
   "source": [
    "t_star = find_t_star(0.95, 75, 0, 20, 10000)\n",
    "print(t_star)\n"
   ]
  },
  {
   "cell_type": "code",
   "execution_count": 16,
   "id": "114fef15-62e8-47fc-91dc-cbbed51e90c0",
   "metadata": {},
   "outputs": [],
   "source": [
    "#Determine if t_star falls in between -t0 and +t0\n",
    "def chck_t(t0,t_star):\n",
    "    lower = t0*-1\n",
    "    upper = t0 + 1\n",
    "    if lower < t_star < upper:\n",
    "        return True\n",
    "    else:\n",
    "        return False"
   ]
  },
  {
   "cell_type": "code",
   "execution_count": 17,
   "id": "46f26d46-bded-4fac-9bf7-72f18f69e537",
   "metadata": {},
   "outputs": [],
   "source": [
    "def interval_check(t_0, t_star):\n",
    "    return np.abs(t_0)<= t_star"
   ]
  },
  {
   "cell_type": "code",
   "execution_count": 18,
   "id": "3c189a61-8c0f-4fcd-af13-5689ac0ca4ad",
   "metadata": {},
   "outputs": [
    {
     "data": {
      "text/plain": [
       "False"
      ]
     },
     "execution_count": 18,
     "metadata": {},
     "output_type": "execute_result"
    }
   ],
   "source": [
    "interval_check(t0,t_star)"
   ]
  },
  {
   "cell_type": "code",
   "execution_count": 16,
   "id": "ab7f8a88-569e-4d88-b01a-7fe7b8bf86ed",
   "metadata": {},
   "outputs": [
    {
     "data": {
      "text/plain": [
       "True"
      ]
     },
     "execution_count": 16,
     "metadata": {},
     "output_type": "execute_result"
    }
   ],
   "source": [
    "chck_t(t0,t_star)"
   ]
  },
  {
   "cell_type": "code",
   "execution_count": null,
   "id": "c739d8f4-a709-49c6-8343-c09dce794ae6",
   "metadata": {},
   "outputs": [],
   "source": [
    "#Based on the results, the statistical evidence suggests that the teaching techniques are beneficial. "
   ]
  }
 ],
 "metadata": {
  "kernelspec": {
   "display_name": "Python 3 (ipykernel)",
   "language": "python",
   "name": "python3"
  },
  "language_info": {
   "codemirror_mode": {
    "name": "ipython",
    "version": 3
   },
   "file_extension": ".py",
   "mimetype": "text/x-python",
   "name": "python",
   "nbconvert_exporter": "python",
   "pygments_lexer": "ipython3",
   "version": "3.11.4"
  }
 },
 "nbformat": 4,
 "nbformat_minor": 5
}
